{
  "nbformat": 4,
  "nbformat_minor": 0,
  "metadata": {
    "colab": {
      "provenance": [],
      "authorship_tag": "ABX9TyPDHG0nsQrqLErYvnXfHEh2",
      "include_colab_link": true
    },
    "kernelspec": {
      "name": "python3",
      "display_name": "Python 3"
    },
    "language_info": {
      "name": "python"
    }
  },
  "cells": [
    {
      "cell_type": "markdown",
      "metadata": {
        "id": "view-in-github",
        "colab_type": "text"
      },
      "source": [
        "<a href=\"https://colab.research.google.com/github/vutienthai/Intro_to_Quantum_Computing/blob/main/Vector_inner_product_test.ipynb\" target=\"_parent\"><img src=\"https://colab.research.google.com/assets/colab-badge.svg\" alt=\"Open In Colab\"/></a>"
      ]
    },
    {
      "cell_type": "code",
      "execution_count": 2,
      "metadata": {
        "colab": {
          "base_uri": "https://localhost:8080/"
        },
        "id": "UjVX4F8_1K9N",
        "outputId": "f08b4dd4-5ad0-4dc6-9782-eb4905007ece"
      },
      "outputs": [
        {
          "output_type": "stream",
          "name": "stdout",
          "text": [
            "[[1.73205081]\n",
            " [1.        ]]\n",
            "[[1]\n",
            " [1]]\n",
            "2.732050807568877\n",
            "(2, 1)\n",
            "(2, 1)\n"
          ]
        }
      ],
      "source": [
        "import numpy as np\n",
        "\n",
        "v1 = np.array([[np.sqrt(3)], [1]])\n",
        "v2 = np.array([[1], [1]])\n",
        "\n",
        "inner_result = np.vdot(v1, v2)\n",
        "\n",
        "print(v1)\n",
        "print(v2)\n",
        "print(inner_result)\n",
        "print(v2.shape)\n",
        "print(v2.shape)"
      ]
    },
    {
      "cell_type": "code",
      "source": [],
      "metadata": {
        "id": "snZU5U2z7mmd"
      },
      "execution_count": null,
      "outputs": []
    }
  ]
}